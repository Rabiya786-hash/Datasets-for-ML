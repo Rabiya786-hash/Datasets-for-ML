{
 "cells": [
  {
   "cell_type": "code",
   "execution_count": 1,
   "id": "f7781462",
   "metadata": {},
   "outputs": [
    {
     "name": "stdout",
     "output_type": "stream",
     "text": [
      "Recommended Movies:\n",
      "\n",
      "The Dark Knight Rises\n",
      "Batman Returns\n",
      "Batman: The Dark Knight Returns, Part 2\n",
      "Batman Forever\n",
      "Batman\n"
     ]
    }
   ],
   "source": [
    "import pandas as pd\n",
    "from sklearn.feature_extraction.text import TfidfVectorizer\n",
    "from sklearn.metrics.pairwise import cosine_similarity\n",
    "\n",
    "# Load dataset\n",
    "df = pd.read_csv('movie_dataset.csv')\n",
    "\n",
    "# Fill missing overview values\n",
    "df['overview'] = df['overview'].fillna('')\n",
    "\n",
    "# Convert overview text to vectors\n",
    "tfidf = TfidfVectorizer(stop_words='english')\n",
    "tfidf_matrix = tfidf.fit_transform(df['overview'])\n",
    "\n",
    "# Compute cosine similarity\n",
    "cosine_sim = cosine_similarity(tfidf_matrix, tfidf_matrix)\n",
    "\n",
    "# Helper function to recommend movies\n",
    "def recommend_movie(title):\n",
    "    # Find the index of the movie\n",
    "    movie_index = df[df['title'] == title].index[0]\n",
    "\n",
    "    # Get similarity scores with all other movies\n",
    "    similarity_scores = cosine_sim[movie_index]\n",
    "\n",
    "    # Get top 5 similar movie indices (excluding itself)\n",
    "    similar_indices = similarity_scores.argsort()[::-1][1:6]\n",
    "\n",
    "    # Print recommended movie titles\n",
    "    print(\"Recommended Movies:\\n\")\n",
    "    for i in similar_indices:\n",
    "        print(df['title'].iloc[i])\n",
    "\n",
    "\n",
    "# Example: Recommend similar movies to \"The Dark Knight\"\n",
    "recommend_movie(\"The Dark Knight\")\n"
   ]
  },
  {
   "cell_type": "code",
   "execution_count": 7,
   "id": "32ac4a83",
   "metadata": {},
   "outputs": [
    {
     "name": "stdout",
     "output_type": "stream",
     "text": [
      "The Dark Knight Rises\n",
      "Batman Returns\n",
      "Batman: The Dark Knight Returns, Part 2\n",
      "Batman Forever\n",
      "Batman\n"
     ]
    }
   ],
   "source": [
    "import pandas as pd\n",
    "from sklearn.feature_extraction.text import TfidfVectorizer\n",
    "from sklearn.metrics.pairwise import cosine_similarity\n",
    "\n",
    "df=pd.read_csv('movie_dataset.csv')\n",
    "df['overview']=df['overview'].fillna('')\n",
    "\n",
    "tfidf=TfidfVectorizer(stop_words='english')\n",
    "tfidf_matrix=tfidf.fit_transform(df['overview'])\n",
    "cosine_matrix=cosine_similarity(tfidf_matrix,tfidf_matrix)\n",
    "\n",
    "\n",
    "def movie_recommend(title):\n",
    "    index=df[df['title']==title].index[0]\n",
    "    similiar_score=cosine_matrix[index]\n",
    "    top_indices=similiar_score.argsort()[::-1][1:6]\n",
    "\n",
    "    for i in top_indices:\n",
    "      print(df['title'].iloc[i])\n",
    "movie_recommend(\"The Dark Knight\")      "
   ]
  },
  {
   "cell_type": "markdown",
   "id": "196b23ba",
   "metadata": {},
   "source": []
  }
 ],
 "metadata": {
  "kernelspec": {
   "display_name": "Python 3",
   "language": "python",
   "name": "python3"
  },
  "language_info": {
   "codemirror_mode": {
    "name": "ipython",
    "version": 3
   },
   "file_extension": ".py",
   "mimetype": "text/x-python",
   "name": "python",
   "nbconvert_exporter": "python",
   "pygments_lexer": "ipython3",
   "version": "3.13.1"
  }
 },
 "nbformat": 4,
 "nbformat_minor": 5
}
